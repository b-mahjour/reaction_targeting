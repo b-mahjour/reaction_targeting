{
 "cells": [
  {
   "cell_type": "code",
   "execution_count": 11,
   "id": "2a658bb1-fddd-44c1-a1cb-b21eac4df7bf",
   "metadata": {
    "scrolled": true,
    "tags": []
   },
   "outputs": [],
   "source": [
    "from reaction_targeter import run\n",
    "\n",
    "# valid target substructures: [c:1]-[C:2], [C:1]-[C:2], [C:1]-[N:2], [C:1]-[O:2], etc.\n",
    "# disconnection map is an list of the two atoms in the target substructure that will be disconnected\n",
    "# substructure atom map is a list of the two atoms in the target molecule that will be connected to the building blocks, after they are disconnected\n",
    "# mainly for bookeeping purposes, the building block labels are used to label the building blocks in the output file\n",
    "\n",
    "input_params = {\n",
    "    \"target_molecule\": \"O=C(C1=C(OC(C)=O)C=CC=C1)O\",\n",
    "    \"disconnection_map\": [1,2],\n",
    "    \"target_substructure\": \"[c:1]-[C:2]\",\n",
    "    \"substructure_atom_map\": [1,2],\n",
    "    \"building_blocks_a\": [\"[O:3]\", \"[N:3]\", \"[C:3](=O)[O]\", \"[Cl:3]\", \"[Br:3]\", \"[I:3]\", \"[B:3](O)[O]\"],\n",
    "    \"building_blocks_b\": [\"[O:4]\", \"[N:4]\", \"[C:4](=O)[O]\", \"[Cl:4]\", \"[Br:4]\", \"[I:4]\", \"[B:4](O)[O]\"],\n",
    "    \"building_blocks_labels_a\": [\"hydrogen\", \"alcohol\", \"amine\", \"acid\", \"chloride\", \"bromide\", \"iodide\", \"boronate\"],\n",
    "    \"building_blocks_labels_b\": [\"hydrogen\", \"alcohol\", \"amine\", \"acid\", \"chloride\", \"bromide\", \"iodide\", \"boronate\"],\n",
    "    \"output_path\":f\"out.xlsx\",\n",
    "    \"commercial_data_path\": \"desalted_sigma_lt_500_mw.xlsx\",\n",
    "    \"debug_flag\": False\n",
    "}"
   ]
  },
  {
   "cell_type": "code",
   "execution_count": 12,
   "id": "04f67541-4c91-4968-8edc-da741b3e7ecb",
   "metadata": {},
   "outputs": [
    {
     "name": "stdout",
     "output_type": "stream",
     "text": [
      "Found 8 hits for input O=C(C1=C(OC(C)=O)C=CC=C1)O in 16.712799787521362 seconds\n"
     ]
    }
   ],
   "source": [
    "run(input_params)"
   ]
  }
 ],
 "metadata": {
  "kernelspec": {
   "display_name": "rdkit2023",
   "language": "python",
   "name": "python3"
  },
  "language_info": {
   "codemirror_mode": {
    "name": "ipython",
    "version": 3
   },
   "file_extension": ".py",
   "mimetype": "text/x-python",
   "name": "python",
   "nbconvert_exporter": "python",
   "pygments_lexer": "ipython3",
   "version": "3.12.0"
  }
 },
 "nbformat": 4,
 "nbformat_minor": 5
}
