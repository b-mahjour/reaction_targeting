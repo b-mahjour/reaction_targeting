{
 "cells": [
  {
   "cell_type": "code",
   "execution_count": 1,
   "id": "fe89822f-6f1b-4a40-9b79-0aede4e49cd5",
   "metadata": {},
   "outputs": [
    {
     "ename": "FileNotFoundError",
     "evalue": "[Errno 2] No such file or directory: 'desalted_drugbank_lt_500_mw.xlsx'",
     "output_type": "error",
     "traceback": [
      "\u001b[0;31m---------------------------------------------------------------------------\u001b[0m",
      "\u001b[0;31mFileNotFoundError\u001b[0m                         Traceback (most recent call last)",
      "Cell \u001b[0;32mIn[1], line 3\u001b[0m\n\u001b[1;32m      1\u001b[0m \u001b[38;5;28;01mimport\u001b[39;00m \u001b[38;5;21;01mpandas\u001b[39;00m \u001b[38;5;28;01mas\u001b[39;00m \u001b[38;5;21;01mpd\u001b[39;00m\n\u001b[0;32m----> 3\u001b[0m drugs \u001b[38;5;241m=\u001b[39m \u001b[43mpd\u001b[49m\u001b[38;5;241;43m.\u001b[39;49m\u001b[43mread_excel\u001b[49m\u001b[43m(\u001b[49m\u001b[38;5;124;43m\"\u001b[39;49m\u001b[38;5;124;43mdesalted_drugbank_lt_500_mw.xlsx\u001b[39;49m\u001b[38;5;124;43m\"\u001b[39;49m\u001b[43m)\u001b[49m\n",
      "File \u001b[0;32m/opt/homebrew/Caskroom/miniforge/base/envs/rdkit2023/lib/python3.12/site-packages/pandas/io/excel/_base.py:504\u001b[0m, in \u001b[0;36mread_excel\u001b[0;34m(io, sheet_name, header, names, index_col, usecols, dtype, engine, converters, true_values, false_values, skiprows, nrows, na_values, keep_default_na, na_filter, verbose, parse_dates, date_parser, date_format, thousands, decimal, comment, skipfooter, storage_options, dtype_backend, engine_kwargs)\u001b[0m\n\u001b[1;32m    502\u001b[0m \u001b[38;5;28;01mif\u001b[39;00m \u001b[38;5;129;01mnot\u001b[39;00m \u001b[38;5;28misinstance\u001b[39m(io, ExcelFile):\n\u001b[1;32m    503\u001b[0m     should_close \u001b[38;5;241m=\u001b[39m \u001b[38;5;28;01mTrue\u001b[39;00m\n\u001b[0;32m--> 504\u001b[0m     io \u001b[38;5;241m=\u001b[39m \u001b[43mExcelFile\u001b[49m\u001b[43m(\u001b[49m\n\u001b[1;32m    505\u001b[0m \u001b[43m        \u001b[49m\u001b[43mio\u001b[49m\u001b[43m,\u001b[49m\n\u001b[1;32m    506\u001b[0m \u001b[43m        \u001b[49m\u001b[43mstorage_options\u001b[49m\u001b[38;5;241;43m=\u001b[39;49m\u001b[43mstorage_options\u001b[49m\u001b[43m,\u001b[49m\n\u001b[1;32m    507\u001b[0m \u001b[43m        \u001b[49m\u001b[43mengine\u001b[49m\u001b[38;5;241;43m=\u001b[39;49m\u001b[43mengine\u001b[49m\u001b[43m,\u001b[49m\n\u001b[1;32m    508\u001b[0m \u001b[43m        \u001b[49m\u001b[43mengine_kwargs\u001b[49m\u001b[38;5;241;43m=\u001b[39;49m\u001b[43mengine_kwargs\u001b[49m\u001b[43m,\u001b[49m\n\u001b[1;32m    509\u001b[0m \u001b[43m    \u001b[49m\u001b[43m)\u001b[49m\n\u001b[1;32m    510\u001b[0m \u001b[38;5;28;01melif\u001b[39;00m engine \u001b[38;5;129;01mand\u001b[39;00m engine \u001b[38;5;241m!=\u001b[39m io\u001b[38;5;241m.\u001b[39mengine:\n\u001b[1;32m    511\u001b[0m     \u001b[38;5;28;01mraise\u001b[39;00m \u001b[38;5;167;01mValueError\u001b[39;00m(\n\u001b[1;32m    512\u001b[0m         \u001b[38;5;124m\"\u001b[39m\u001b[38;5;124mEngine should not be specified when passing \u001b[39m\u001b[38;5;124m\"\u001b[39m\n\u001b[1;32m    513\u001b[0m         \u001b[38;5;124m\"\u001b[39m\u001b[38;5;124man ExcelFile - ExcelFile already has the engine set\u001b[39m\u001b[38;5;124m\"\u001b[39m\n\u001b[1;32m    514\u001b[0m     )\n",
      "File \u001b[0;32m/opt/homebrew/Caskroom/miniforge/base/envs/rdkit2023/lib/python3.12/site-packages/pandas/io/excel/_base.py:1563\u001b[0m, in \u001b[0;36mExcelFile.__init__\u001b[0;34m(self, path_or_buffer, engine, storage_options, engine_kwargs)\u001b[0m\n\u001b[1;32m   1561\u001b[0m     ext \u001b[38;5;241m=\u001b[39m \u001b[38;5;124m\"\u001b[39m\u001b[38;5;124mxls\u001b[39m\u001b[38;5;124m\"\u001b[39m\n\u001b[1;32m   1562\u001b[0m \u001b[38;5;28;01melse\u001b[39;00m:\n\u001b[0;32m-> 1563\u001b[0m     ext \u001b[38;5;241m=\u001b[39m \u001b[43minspect_excel_format\u001b[49m\u001b[43m(\u001b[49m\n\u001b[1;32m   1564\u001b[0m \u001b[43m        \u001b[49m\u001b[43mcontent_or_path\u001b[49m\u001b[38;5;241;43m=\u001b[39;49m\u001b[43mpath_or_buffer\u001b[49m\u001b[43m,\u001b[49m\u001b[43m \u001b[49m\u001b[43mstorage_options\u001b[49m\u001b[38;5;241;43m=\u001b[39;49m\u001b[43mstorage_options\u001b[49m\n\u001b[1;32m   1565\u001b[0m \u001b[43m    \u001b[49m\u001b[43m)\u001b[49m\n\u001b[1;32m   1566\u001b[0m     \u001b[38;5;28;01mif\u001b[39;00m ext \u001b[38;5;129;01mis\u001b[39;00m \u001b[38;5;28;01mNone\u001b[39;00m:\n\u001b[1;32m   1567\u001b[0m         \u001b[38;5;28;01mraise\u001b[39;00m \u001b[38;5;167;01mValueError\u001b[39;00m(\n\u001b[1;32m   1568\u001b[0m             \u001b[38;5;124m\"\u001b[39m\u001b[38;5;124mExcel file format cannot be determined, you must specify \u001b[39m\u001b[38;5;124m\"\u001b[39m\n\u001b[1;32m   1569\u001b[0m             \u001b[38;5;124m\"\u001b[39m\u001b[38;5;124man engine manually.\u001b[39m\u001b[38;5;124m\"\u001b[39m\n\u001b[1;32m   1570\u001b[0m         )\n",
      "File \u001b[0;32m/opt/homebrew/Caskroom/miniforge/base/envs/rdkit2023/lib/python3.12/site-packages/pandas/io/excel/_base.py:1419\u001b[0m, in \u001b[0;36minspect_excel_format\u001b[0;34m(content_or_path, storage_options)\u001b[0m\n\u001b[1;32m   1416\u001b[0m \u001b[38;5;28;01mif\u001b[39;00m \u001b[38;5;28misinstance\u001b[39m(content_or_path, \u001b[38;5;28mbytes\u001b[39m):\n\u001b[1;32m   1417\u001b[0m     content_or_path \u001b[38;5;241m=\u001b[39m BytesIO(content_or_path)\n\u001b[0;32m-> 1419\u001b[0m \u001b[38;5;28;01mwith\u001b[39;00m \u001b[43mget_handle\u001b[49m\u001b[43m(\u001b[49m\n\u001b[1;32m   1420\u001b[0m \u001b[43m    \u001b[49m\u001b[43mcontent_or_path\u001b[49m\u001b[43m,\u001b[49m\u001b[43m \u001b[49m\u001b[38;5;124;43m\"\u001b[39;49m\u001b[38;5;124;43mrb\u001b[39;49m\u001b[38;5;124;43m\"\u001b[39;49m\u001b[43m,\u001b[49m\u001b[43m \u001b[49m\u001b[43mstorage_options\u001b[49m\u001b[38;5;241;43m=\u001b[39;49m\u001b[43mstorage_options\u001b[49m\u001b[43m,\u001b[49m\u001b[43m \u001b[49m\u001b[43mis_text\u001b[49m\u001b[38;5;241;43m=\u001b[39;49m\u001b[38;5;28;43;01mFalse\u001b[39;49;00m\n\u001b[1;32m   1421\u001b[0m \u001b[43m\u001b[49m\u001b[43m)\u001b[49m \u001b[38;5;28;01mas\u001b[39;00m handle:\n\u001b[1;32m   1422\u001b[0m     stream \u001b[38;5;241m=\u001b[39m handle\u001b[38;5;241m.\u001b[39mhandle\n\u001b[1;32m   1423\u001b[0m     stream\u001b[38;5;241m.\u001b[39mseek(\u001b[38;5;241m0\u001b[39m)\n",
      "File \u001b[0;32m/opt/homebrew/Caskroom/miniforge/base/envs/rdkit2023/lib/python3.12/site-packages/pandas/io/common.py:872\u001b[0m, in \u001b[0;36mget_handle\u001b[0;34m(path_or_buf, mode, encoding, compression, memory_map, is_text, errors, storage_options)\u001b[0m\n\u001b[1;32m    863\u001b[0m         handle \u001b[38;5;241m=\u001b[39m \u001b[38;5;28mopen\u001b[39m(\n\u001b[1;32m    864\u001b[0m             handle,\n\u001b[1;32m    865\u001b[0m             ioargs\u001b[38;5;241m.\u001b[39mmode,\n\u001b[0;32m   (...)\u001b[0m\n\u001b[1;32m    868\u001b[0m             newline\u001b[38;5;241m=\u001b[39m\u001b[38;5;124m\"\u001b[39m\u001b[38;5;124m\"\u001b[39m,\n\u001b[1;32m    869\u001b[0m         )\n\u001b[1;32m    870\u001b[0m     \u001b[38;5;28;01melse\u001b[39;00m:\n\u001b[1;32m    871\u001b[0m         \u001b[38;5;66;03m# Binary mode\u001b[39;00m\n\u001b[0;32m--> 872\u001b[0m         handle \u001b[38;5;241m=\u001b[39m \u001b[38;5;28;43mopen\u001b[39;49m\u001b[43m(\u001b[49m\u001b[43mhandle\u001b[49m\u001b[43m,\u001b[49m\u001b[43m \u001b[49m\u001b[43mioargs\u001b[49m\u001b[38;5;241;43m.\u001b[39;49m\u001b[43mmode\u001b[49m\u001b[43m)\u001b[49m\n\u001b[1;32m    873\u001b[0m     handles\u001b[38;5;241m.\u001b[39mappend(handle)\n\u001b[1;32m    875\u001b[0m \u001b[38;5;66;03m# Convert BytesIO or file objects passed with an encoding\u001b[39;00m\n",
      "\u001b[0;31mFileNotFoundError\u001b[0m: [Errno 2] No such file or directory: 'desalted_drugbank_lt_500_mw.xlsx'"
     ]
    }
   ],
   "source": [
    "import pandas as pd\n",
    "\n",
    "drugs = pd.read_excel(\"desalted_drugbank_lt_500_mw.xlsx\")"
   ]
  },
  {
   "cell_type": "code",
   "execution_count": null,
   "id": "47a78761-af90-4c31-9007-ad5f3bcfd106",
   "metadata": {},
   "outputs": [
    {
     "name": "stdout",
     "output_type": "stream",
     "text": [
      "9082\n"
     ]
    }
   ],
   "source": [
    "print(len(drugs))"
   ]
  },
  {
   "cell_type": "code",
   "execution_count": null,
   "id": "be105db9-7602-4537-a6d6-f0a79d7c165c",
   "metadata": {},
   "outputs": [
    {
     "name": "stdout",
     "output_type": "stream",
     "text": [
      "C—C 7611\n",
      "C—c 5371\n",
      "c—c 988\n",
      "C—N 5548\n",
      "C—n 1120\n",
      "c—N 2704\n",
      "c—n 167\n",
      "C—O 5932\n",
      "c—O 2439\n"
     ]
    }
   ],
   "source": [
    "from rdkit import Chem\n",
    "\n",
    "sub_CC = Chem.MolFromSmarts(\"[C]-[C]\")\n",
    "sub_Cc = Chem.MolFromSmarts(\"[C]-[c]\")\n",
    "sub_cc = Chem.MolFromSmarts(\"[c]-[c]\")\n",
    "sub_CN = Chem.MolFromSmarts(\"[C]-[N]\")\n",
    "sub_Cn = Chem.MolFromSmarts(\"[C]-[n]\")\n",
    "sub_cN = Chem.MolFromSmarts(\"[c]-[N]\")\n",
    "sub_cn = Chem.MolFromSmarts(\"[c]-[n]\")\n",
    "sub_CO = Chem.MolFromSmarts(\"[C]-[O]\")\n",
    "sub_cO = Chem.MolFromSmarts(\"[c]-[O]\")\n",
    "sub_Co = Chem.MolFromSmarts(\"[C]-[o]\")\n",
    "sub_co = Chem.MolFromSmarts(\"[c]-[o]\")\n",
    "\n",
    "titles = [\"C—C\", \"C—c\", \"c—c\", \"C—N\", \"C—n\", \"c—N\", \"c—n\", \"C—O\", \"c—O\"]\n",
    "substructures = [sub_CC, sub_Cc, sub_cc, sub_CN, sub_Cn, sub_cN, sub_cn, sub_CO, sub_cO, sub_Co, sub_co]\n",
    "all_hits1 = []\n",
    "\n",
    "for i1, k1 in enumerate(titles):\n",
    "    hits = []\n",
    "    sub = substructures[i1]\n",
    "    for i,k in drugs.iterrows():\n",
    "        mol = Chem.MolFromSmiles(k[\"smiles\"])\n",
    "        if mol.HasSubstructMatch(sub):\n",
    "            if k[\"smiles\"] not in hits:\n",
    "                hits.append(k[\"smiles\"])\n",
    "\n",
    "    all_hits1.append(len(hits))\n",
    "    print(k1, len(hits))"
   ]
  },
  {
   "cell_type": "code",
   "execution_count": 2,
   "id": "32d9c33c-1974-4686-9d22-8b2d770ef9ac",
   "metadata": {},
   "outputs": [],
   "source": [
    "bond_classes = [r\"C$_{\\textit{sp}^3}$–C$_{\\textit{sp}^3}$\", # 7611\n",
    "                r\"C$_{\\textit{sp}^3}$–O$_{\\textit{sp}^3}$\", # 5932\n",
    "                r\"C$_{\\textit{sp}^3}$–N$_{\\textit{sp}^3}$\", # 5548\n",
    "                r\"C$_{\\textit{sp}^3}$–C$_{\\textit{sp}^2}$\", #5371\n",
    "                r\"C$_{\\textit{sp}^2}$–N$_{\\textit{sp}^3}$\", # 2704\n",
    "                r\"C$_{\\textit{sp}^2}$–O$_{\\textit{sp}^3}$\", # 2439\n",
    "                r\"C$_{\\textit{sp}^3}$–N$_{\\textit{sp}^2}$\", # 1120\n",
    "                r\"C$_{\\textit{sp}^2}$–C$_{\\textit{sp}^2}$\", # 988\n",
    "                r\"C$_{\\textit{sp}^2}$–N$_{\\textit{sp}^2}$\"] # 167\n",
    "\n",
    "\n",
    "bond_classes = [r\"C$_{sp}^3}$–C$_{sp^3}$\", # 7611\n",
    "                r\"C$_{sp}^3}$–O$_{sp^3}$\", # 5932\n",
    "                r\"C$_{sp}^3}$–N$_{sp^3}$\", # 5548\n",
    "                r\"C$_{sp}^3}$–C$_{sp^2}$\", #5371\n",
    "                r\"C$_{sp}^2}$–N$_{sp^3}$\", # 2704\n",
    "                r\"C$_{sp}^2}$–O$_{sp^3}$\", # 2439\n",
    "                r\"C$_{sp}^3}$–N$_{sp^2}$\", # 1120\n",
    "                r\"C$_{sp}^2}$–C$_{sp^2}$\", # 988\n",
    "                r\"C$_{sp}^2}$–N$_{sp^2}$\"] # 167\n",
    "\n",
    "\n",
    "bond_classes = list(reversed(bond_classes))\n",
    "hits2 = [7611, 5932, 5548, 5371, 2704, 2439, 1120, 988, 167]\n",
    "hits2 = list(reversed(hits2))"
   ]
  },
  {
   "cell_type": "code",
   "execution_count": 3,
   "id": "8d68bbbb-b56d-459f-ac8a-71d9c65479cf",
   "metadata": {},
   "outputs": [
    {
     "data": {
      "image/png": "[encoded data removed]",
      "text/plain": [
       "<Figure size 350x100 with 1 Axes>"
      ]
     },
     "metadata": {},
     "output_type": "display_data"
    }
   ],
   "source": [
    "import matplotlib.pyplot as plt\n",
    "\n",
    "fig, ax = plt.subplots(figsize=(3.5,1))\n",
    "ax.bar(range(0,len(bond_classes)), hits2, color='#cac9c9')\n",
    "\n",
    "ax.set_xticks([])\n",
    "ax.set_xticklabels([])\n",
    "ax.set_yticks([0, 2000, 4000, 6000, 8000, 10000, 12000, 14000, 16000, 18000, 30000])\n",
    "ax.set_yticklabels([0, 2000, 4000, 6000, 8000, 10000, 12000, 14000, 16000, 18000, 30000], fontsize=6, fontfamily='arial')\n",
    "ax.set_ylim([0,8000])\n",
    "\n",
    "ax.set_ylabel(\"occurence in DrugBank\", fontsize=6, fontfamily='arial')\n",
    "ax.set_title(\"single bond occurence in DrugBank\", fontsize=6, fontfamily='arial')\n",
    "\n",
    "plt.subplots_adjust(hspace=0, wspace=0)\n",
    "plt.margins(0,0)\n",
    "\n",
    "\n",
    "plt.savefig(f\"component_a.png\", dpi=900, bbox_inches='tight', pad_inches = 0)"
   ]
  }
 ],
 "metadata": {
  "kernelspec": {
   "display_name": "Python 3 (ipykernel)",
   "language": "python",
   "name": "python3"
  },
  "language_info": {
   "codemirror_mode": {
    "name": "ipython",
    "version": 3
   },
   "file_extension": ".py",
   "mimetype": "text/x-python",
   "name": "python",
   "nbconvert_exporter": "python",
   "pygments_lexer": "ipython3",
   "version": "3.12.0"
  }
 },
 "nbformat": 4,
 "nbformat_minor": 5
}
