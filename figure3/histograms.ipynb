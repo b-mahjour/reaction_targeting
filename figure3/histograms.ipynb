{
 "cells": [
  {
   "cell_type": "code",
   "execution_count": 2,
   "id": "f6c67a34-cbc1-499b-a4d7-a3f5054ad96c",
   "metadata": {},
   "outputs": [
    {
     "name": "stdout",
     "output_type": "stream",
     "text": [
      "399350\n"
     ]
    }
   ],
   "source": [
    "import pandas as pd\n",
    "comm_sig = pd.read_excel(\"sigma_compiled_sanitized_20230108.xlsx\")\n",
    "print(len(comm_sig))"
   ]
  },
  {
   "cell_type": "code",
   "execution_count": 3,
   "id": "252f4c5e-25d2-4e23-9e8c-bf2770c1a918",
   "metadata": {
    "scrolled": true,
    "tags": []
   },
   "outputs": [],
   "source": [
    "import numpy as np\n",
    "from rdkit import Chem\n",
    "from rdkit import RDLogger\n",
    "RDLogger.DisableLog('rdApp.*')                                                                                                 \n",
    "\n",
    "substructs = [\"[c,n,o][OH:3]\", \"[C,N,O][OH!$(C(=O)):3]\", \\\n",
    "              \"[c,n,o][NH2:3]\", \"[C,N,O][NH2:3]\", \\\n",
    "              \"[c,n,o][C:3](=O)[O]\", \"[C,N,O][C:3](=O)[O]\", \\\n",
    "              \"[c,n,o][Cl:3]\", \"[C,N,O][Cl:3]\", \\\n",
    "              \"[c,n,o][Br:3]\", \"[C,N,O][Br:3]\", \\\n",
    "              \"[c,n,o][I:3]\", \"[C,N,O][I:3]\", \\\n",
    "              \"[c,n,o][B:3](O)[O]\", \"[C,N,O][B:3](O)[O]\", \n",
    "              \"[C](=[O])[CX4H2,CX4H1,CX4H3:3]\", \"[a][CX4H2,CX4H1,CX4H3:3]\", \"[N,O,S][CX4H2,CX4H1,CX4H3:3]\"]\n",
    "\n",
    "bb_classes = [\"aryl alcohol\", \"alcohol\",\n",
    "              \"aryl amine\", \"amine\",\n",
    "              \"aryl acid\", \"acid\", \n",
    "              \"aryl chloride\", \"chloride\",\n",
    "              \"aryl bromide\", \"bromide\", \n",
    "              \"aryl iodide\", \"iodide\", \n",
    "              \"aryl boronate\", \"boronate\", \n",
    "              \"carbonyl–CH\", \"benzyl–H\", \"het–CH\"]\n",
    "all_hits = np.zeros(len(bb_classes))\n",
    "\n",
    "for i,k in comm_sig.iterrows():\n",
    "    mol = Chem.MolFromSmiles(k[\"sanitized_smiles\"])\n",
    "    \n",
    "    for i2,k2 in enumerate(substructs):\n",
    "        sub = Chem.MolFromSmarts(k2)\n",
    "        hits = mol.GetSubstructMatches(sub)\n",
    "        if bb_classes[i2] == \"carbonyl-CH\":\n",
    "            hits = hits + mol.GetSubstructMatches(Chem.MolFromSmarts(\"[C]([OX2H1])[CX4H2,CX4H1,CX4H3:3]\"))\n",
    "        if len(hits) > 0:\n",
    "            all_hits[i2] = all_hits[i2] + 1"
   ]
  },
  {
   "cell_type": "code",
   "execution_count": 4,
   "id": "4d728370-2e2b-4ecc-9a94-b86a625b6231",
   "metadata": {},
   "outputs": [
    {
     "name": "stdout",
     "output_type": "stream",
     "text": [
      "aryl alcohol 24749\n",
      "alcohol 96486\n",
      "aryl amine 38573\n",
      "amine 47641\n",
      "aryl acid 47703\n",
      "acid 87030\n",
      "aryl chloride 53032\n",
      "chloride 11476\n",
      "aryl bromide 43428\n",
      "bromide 7147\n",
      "aryl iodide 7447\n",
      "iodide 936\n",
      "aryl boronate 18093\n",
      "boronate 1068\n",
      "carbonyl–CH 92788\n",
      "benzyl–H 180178\n",
      "het–CH 254901\n"
     ]
    }
   ],
   "source": [
    "bb_mapping = {}\n",
    "hits_bb = []\n",
    "for i,k in enumerate(all_hits):\n",
    "    print(bb_classes[i], int(k))\n",
    "    hits_bb.append((int(k), bb_classes[i]))\n",
    "    bb_mapping[bb_classes[i]] = int(k)"
   ]
  },
  {
   "cell_type": "code",
   "execution_count": 5,
   "id": "fd8330fd-26b2-4777-8a89-fc8abfbaa165",
   "metadata": {},
   "outputs": [
    {
     "name": "stdout",
     "output_type": "stream",
     "text": [
      "(936, 'iodide')\n",
      "(1068, 'boronate')\n",
      "(7147, 'bromide')\n",
      "(7447, 'aryl iodide')\n",
      "(11476, 'chloride')\n",
      "(18093, 'aryl boronate')\n",
      "(24749, 'aryl alcohol')\n",
      "(38573, 'aryl amine')\n",
      "(43428, 'aryl bromide')\n",
      "(47641, 'amine')\n",
      "(47703, 'aryl acid')\n",
      "(53032, 'aryl chloride')\n",
      "(87030, 'acid')\n",
      "(92788, 'carbonyl–CH')\n",
      "(96486, 'alcohol')\n",
      "(180178, 'benzyl–H')\n",
      "(254901, 'het–CH')\n"
     ]
    }
   ],
   "source": [
    "sorted_list = sorted(hits_bb, key=lambda x: x[0], reverse=False)\n",
    "for k in sorted_list:\n",
    "    print(k)"
   ]
  },
  {
   "cell_type": "code",
   "execution_count": 6,
   "id": "57851440-6dcc-4834-b6a5-f14d786fb9c0",
   "metadata": {},
   "outputs": [],
   "source": [
    "all_bbs = [ # aryl ,alkyl\n",
    "    (\"boronate\", 18093, 1068),\n",
    "    (\"iodide\", 7447, 936),\n",
    "    (\"bromide\", 43428, 7147),\n",
    "    (\"chloride\", 53032, 11476),\n",
    "    (\"amine\", 38573, 47641),\n",
    "    (\"alcohol\", 24749, 96486),\n",
    "    (\"acid\", 47703, 87030),\n",
    "    (\"carbonyl–CH\", 0, 112554),\n",
    "    (\"benzyl–H\", 0, 180178),\n",
    "    (\"het–CH\", 0, 254901),\n",
    "]\n",
    "\n",
    "coz = [\"#cac9c9\", \"#cac9c9\", \"#cac9c9\", \"#cac9c9\", \"#cac9c9\", \"#cac9c9\", \"#cac9c9\", \"#000000\", \"#000000\", \"#000000\"]"
   ]
  },
  {
   "cell_type": "code",
   "execution_count": 7,
   "id": "9c4b9840-f81a-4a22-9b64-b662d3a1e457",
   "metadata": {},
   "outputs": [
    {
     "data": {
      "image/png": "[encoded data removed]",
      "text/plain": [
       "<Figure size 340x100 with 1 Axes>"
      ]
     },
     "metadata": {},
     "output_type": "display_data"
    }
   ],
   "source": [
    "import matplotlib.pyplot as plt\n",
    "\n",
    "labels, aryl_vals, alkyl_vals = zip(*all_bbs)\n",
    "\n",
    "fig, ax = plt.subplots(figsize=(3.4,1))\n",
    "\n",
    "\n",
    "# Define bar width\n",
    "bar_width = 0.5\n",
    "\n",
    "bars1 = ax.bar(labels, aryl_vals, color='darkgrey', linewidth=bar_width, label='Aryl')\n",
    "\n",
    "bars2 = ax.bar(labels, alkyl_vals, bottom=aryl_vals, color=coz, linewidth=bar_width, label='Non-aryl')\n",
    "\n",
    "\n",
    "ax.set_ylabel(\"occurrence (*10e3)\", fontsize=6, fontfamily='arial')\n",
    "ax.set_xlabel(\"building block class\", fontsize=6, fontfamily='arial')\n",
    "ax.set_title(\"building block occurrence in commercial catalog\", fontsize=6, fontfamily='arial')\n",
    "\n",
    "ax.set_xticks(range(0,len(labels)))\n",
    "ax.set_xticklabels(labels, fontsize=6, fontfamily='arial', rotation=90)\n",
    "ax.set_yticks([0, 50000, 100000, 150000, 200000, 250000])\n",
    "ax.set_yticklabels([0, \"5\", \"10\", \"15\", \"20\", \"25\"], fontsize=6, fontfamily='arial')\n",
    "ax.set_ylim([0,300000])\n",
    "\n",
    "plt.subplots_adjust(hspace=0, wspace=0)\n",
    "plt.margins(0,0)\n",
    "\n",
    "plt.savefig(f\"component_b.png\", dpi=900, bbox_inches='tight', pad_inches = 0.01)"
   ]
  },
  {
   "cell_type": "code",
   "execution_count": null,
   "id": "7f17ed59",
   "metadata": {},
   "outputs": [],
   "source": []
  }
 ],
 "metadata": {
  "kernelspec": {
   "display_name": "Python 3 (ipykernel)",
   "language": "python",
   "name": "python3"
  },
  "language_info": {
   "codemirror_mode": {
    "name": "ipython",
    "version": 3
   },
   "file_extension": ".py",
   "mimetype": "text/x-python",
   "name": "python",
   "nbconvert_exporter": "python",
   "pygments_lexer": "ipython3",
   "version": "3.12.0"
  }
 },
 "nbformat": 4,
 "nbformat_minor": 5
}
