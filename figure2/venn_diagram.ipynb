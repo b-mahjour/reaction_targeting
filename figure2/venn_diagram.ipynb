{
 "cells": [
  {
   "cell_type": "code",
   "execution_count": 1,
   "id": "de8066e2-aceb-4e90-96ec-8d978ed89515",
   "metadata": {},
   "outputs": [],
   "source": [
    "import pandas as pd\n",
    "comm_sig = pd.read_excel(\"sigma_compiled_sanitized_20230108.xlsx\")\n"
   ]
  },
  {
   "cell_type": "code",
   "execution_count": 17,
   "id": "f6237b86-9f31-426d-8c71-8e5505bcf455",
   "metadata": {
    "scrolled": true,
    "tags": []
   },
   "outputs": [],
   "source": [
    "import numpy as np\n",
    "from rdkit import Chem\n",
    "from rdkit import RDLogger\n",
    "RDLogger.DisableLog('rdApp.*')                                                                                                 \n",
    "\n",
    "substructs = [\"[$([c][CX4H1,CX4H2][!O,!N,!Cl,!Br,!I]),$([c][CX4H3])]\", \"[$([c][C][NH2,Cl,Br,I,OH])]\"]\n",
    "bb_classes = [\"benzyl-H\", \"benzyl-other\"]\n",
    "\n",
    "\n",
    "pairs = {k:[] for k in bb_classes}\n",
    "\n",
    "for i,k in comm_sig.iterrows():\n",
    "    mol = Chem.MolFromSmiles(k[\"sanitized_smiles\"])\n",
    "    \n",
    "    for i2,k2 in enumerate(substructs):\n",
    "        if bb_classes[i2] not in pairs:\n",
    "            continue\n",
    "        sub = Chem.MolFromSmarts(k2)\n",
    "        hits = mol.GetSubstructMatches(sub)\n",
    "        if len(hits) > 0:\n",
    "            sm = Chem.MolToSmiles(mol)\n",
    "            if sm not in pairs[bb_classes[i2]]:\n",
    "                pairs[bb_classes[i2]].append(sm)"
   ]
  },
  {
   "cell_type": "code",
   "execution_count": 20,
   "id": "469855ba-40f6-40ce-a1ab-31e06cb566a9",
   "metadata": {},
   "outputs": [],
   "source": [
    "from rdkit.Chem import AllChem\n",
    "d_benzyl = AllChem.ReactionFromSmarts(\"[c:1][CX4H2,CX4H1,CX4H3]>>[c:1][C][13C]\")\n",
    "d_benzyl_other = AllChem.ReactionFromSmarts(\"[c:1][C][NH2,Cl,Br,I,OH]>>[c:1][C][13C]\")\n"
   ]
  },
  {
   "cell_type": "code",
   "execution_count": 21,
   "id": "67496770-4630-499c-9b7c-a6789c884203",
   "metadata": {},
   "outputs": [],
   "source": [
    "d_pairs = {k:[] for k in bb_classes}\n",
    "reactions = {\"benzyl-H\":d_benzyl, \"benzyl-other\":d_benzyl_other}\n"
   ]
  },
  {
   "cell_type": "code",
   "execution_count": 22,
   "id": "0b1f0050-766c-4a7d-b636-68199c650203",
   "metadata": {
    "scrolled": true,
    "tags": []
   },
   "outputs": [],
   "source": [
    "for pair in pairs:\n",
    "    for k in pairs[pair]:\n",
    "        mol = Chem.MolFromSmiles(k)\n",
    "        j = reactions[pair].RunReactants((mol,))\n",
    "        for i in j:\n",
    "            sm = Chem.MolToSmiles(i[0])\n",
    "            if sm not in d_pairs[pair]:\n",
    "                d_pairs[pair].append(sm)"
   ]
  },
  {
   "cell_type": "code",
   "execution_count": 23,
   "id": "c29a33b1-a63f-4259-960f-dd25d8983c9a",
   "metadata": {},
   "outputs": [
    {
     "name": "stdout",
     "output_type": "stream",
     "text": [
      "13796\n"
     ]
    }
   ],
   "source": [
    "same = 0 \n",
    "for k in d_pairs[\"benzyl-H\"]:\n",
    "    for k2 in d_pairs[\"benzyl-other\"]:\n",
    "        if k == k2:\n",
    "            same += 1\n",
    "print(same)"
   ]
  },
  {
   "cell_type": "code",
   "execution_count": 71,
   "id": "c1e437a7-52c7-4548-897f-152351bca643",
   "metadata": {},
   "outputs": [
    {
     "name": "stdout",
     "output_type": "stream",
     "text": [
      "benzyl-H 164348\n",
      "benzyl-other 55023\n"
     ]
    }
   ],
   "source": [
    "for k in pairs:\n",
    "    print(k, len(pairs[k]))"
   ]
  },
  {
   "cell_type": "code",
   "execution_count": 72,
   "id": "bd736657-6934-4b53-b182-cce06273f872",
   "metadata": {},
   "outputs": [
    {
     "data": {
      "image/png": "[encoded data removed]",
      "text/plain": [
       "<Figure size 432x288 with 1 Axes>"
      ]
     },
     "metadata": {},
     "output_type": "display_data"
    }
   ],
   "source": [
    "from matplotlib import pyplot as plt\n",
    "from matplotlib_venn import venn2, venn2_circles\n",
    "\n",
    "v = venn2(subsets = (55023, 164348, 13796), set_labels = (\"\",\"\",\"\"))\n",
    "v.patches[0].set_color(\"#0b1b82\")\n",
    "v.patches[1].set_color('#f2f758')\n",
    "for idx, subset in enumerate(v.subset_labels):\n",
    "    v.subset_labels[idx].set_visible(False)\n",
    "plt.savefig(\"venn.png\",dpi=300)\n",
    "plt.show()"
   ]
  }
 ],
 "metadata": {
  "kernelspec": {
   "display_name": "Python 3 (ipykernel)",
   "language": "python",
   "name": "python3"
  },
  "language_info": {
   "codemirror_mode": {
    "name": "ipython",
    "version": 3
   },
   "file_extension": ".py",
   "mimetype": "text/x-python",
   "name": "python",
   "nbconvert_exporter": "python",
   "pygments_lexer": "ipython3",
   "version": "3.12.0"
  }
 },
 "nbformat": 4,
 "nbformat_minor": 5
}
